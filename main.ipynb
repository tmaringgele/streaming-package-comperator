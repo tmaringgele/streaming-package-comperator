{
 "cells": [
  {
   "cell_type": "code",
   "execution_count": 30,
   "metadata": {},
   "outputs": [],
   "source": [
    "import pandas as pd\n",
    "from streaming_optimizer import optimize_streaming_packages\n",
    "from datetime import datetime"
   ]
  },
  {
   "cell_type": "code",
   "execution_count": 31,
   "metadata": {},
   "outputs": [
    {
     "data": {
      "text/html": [
       "<div>\n",
       "<style scoped>\n",
       "    .dataframe tbody tr th:only-of-type {\n",
       "        vertical-align: middle;\n",
       "    }\n",
       "\n",
       "    .dataframe tbody tr th {\n",
       "        vertical-align: top;\n",
       "    }\n",
       "\n",
       "    .dataframe thead th {\n",
       "        text-align: right;\n",
       "    }\n",
       "</style>\n",
       "<table border=\"1\" class=\"dataframe\">\n",
       "  <thead>\n",
       "    <tr style=\"text-align: right;\">\n",
       "      <th></th>\n",
       "      <th>id</th>\n",
       "      <th>name</th>\n",
       "      <th>monthly_price_cents</th>\n",
       "      <th>monthly_price_yearly_subscription_in_cents</th>\n",
       "    </tr>\n",
       "  </thead>\n",
       "  <tbody>\n",
       "    <tr>\n",
       "      <th>0</th>\n",
       "      <td>2</td>\n",
       "      <td>MagentaTV - MegaSport</td>\n",
       "      <td>NaN</td>\n",
       "      <td>6000</td>\n",
       "    </tr>\n",
       "    <tr>\n",
       "      <th>1</th>\n",
       "      <td>3</td>\n",
       "      <td>ZDF - Free-TV</td>\n",
       "      <td>0.0</td>\n",
       "      <td>0</td>\n",
       "    </tr>\n",
       "    <tr>\n",
       "      <th>2</th>\n",
       "      <td>4</td>\n",
       "      <td>ARD - Free-TV</td>\n",
       "      <td>0.0</td>\n",
       "      <td>0</td>\n",
       "    </tr>\n",
       "  </tbody>\n",
       "</table>\n",
       "</div>"
      ],
      "text/plain": [
       "   id                   name  monthly_price_cents  \\\n",
       "0   2  MagentaTV - MegaSport                  NaN   \n",
       "1   3          ZDF - Free-TV                  0.0   \n",
       "2   4          ARD - Free-TV                  0.0   \n",
       "\n",
       "   monthly_price_yearly_subscription_in_cents  \n",
       "0                                        6000  \n",
       "1                                           0  \n",
       "2                                           0  "
      ]
     },
     "execution_count": 31,
     "metadata": {},
     "output_type": "execute_result"
    }
   ],
   "source": [
    "game_raw = pd.read_csv('data/bc_game.csv') # some games and when they are played\n",
    "streaming_packages_raw = pd.read_csv('data/bc_streaming_package.csv') # streaming packages with price\n",
    "streaming_offers_raw = pd.read_csv('data/bc_streaming_offer.csv')  # which service offers which game, live? on-demand-highlights?\n",
    "streaming_packages_raw.head(3)"
   ]
  },
  {
   "cell_type": "code",
   "execution_count": 4,
   "metadata": {},
   "outputs": [
    {
     "name": "stdout",
     "output_type": "stream",
     "text": [
      "Status: Optimal\n",
      "Total Cost: 100.0\n",
      "Active Monthly Subscriptions:\n",
      "  Package: P1, Start Date: 2023-01-15\n",
      "  Package: P1, Start Date: 2023-02-20\n",
      "  Package: P1, Start Date: 2023-03-25\n",
      "  Package: P1, Start Date: 2024-01-10\n",
      "  Package: P1, Start Date: 2024-03-15\n",
      "Active Yearly Subscriptions:\n"
     ]
    }
   ],
   "source": [
    "from streaming_optimizer import optimize_streaming_packages\n",
    "from datetime import datetime, timedelta\n",
    "\n",
    "# Example Input Data\n",
    "packages = [\"P1\", \"P2\"]\n",
    "games = [\"G1\", \"G2\", \"G3\", \"G4\", \"G5\", 'G6', 'G7']\n",
    "game_dates = {\n",
    "    \"G1\": datetime(2023, 1, 15),\n",
    "    \"G2\": datetime(2023, 2, 20),\n",
    "    \"G3\": datetime(2023, 3, 25),\n",
    "    \"G4\": datetime(2023, 4, 10),\n",
    "    \"G5\": datetime(2023, 4, 20),\n",
    "    \"G6\": datetime(2024, 1, 10),\n",
    "    \"G7\": datetime(2024, 3, 15),\n",
    "}\n",
    "C_month = {'P1': 20}\n",
    "C_year = {'P1': 180}\n",
    "P_g = {'G1': ['P1'], 'G2': ['P1'], 'G3': ['P1', 'P2'], 'G4': ['P1', 'P2'], 'G5': ['P1', 'P2'],\n",
    "    'G6': ['P1'], 'G7': ['P1', 'P2']}\n",
    "optimize_streaming_packages(packages, games, game_dates, C_month, C_year, P_g)\n",
    "\n"
   ]
  }
 ],
 "metadata": {
  "kernelspec": {
   "display_name": "Python 3",
   "language": "python",
   "name": "python3"
  },
  "language_info": {
   "codemirror_mode": {
    "name": "ipython",
    "version": 3
   },
   "file_extension": ".py",
   "mimetype": "text/x-python",
   "name": "python",
   "nbconvert_exporter": "python",
   "pygments_lexer": "ipython3",
   "version": "3.12.6"
  }
 },
 "nbformat": 4,
 "nbformat_minor": 2
}
