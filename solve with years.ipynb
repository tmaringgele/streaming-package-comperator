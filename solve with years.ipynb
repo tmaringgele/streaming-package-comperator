{
 "cells": [
  {
   "cell_type": "markdown",
   "metadata": {},
   "source": [
    "This approach should respect the fact that you can buy a yearly subscription at any time of the year\n",
    "\n",
    "FE you can buy a Package from 15.6.2023 to 15.6.2024"
   ]
  },
  {
   "cell_type": "code",
   "execution_count": 74,
   "metadata": {},
   "outputs": [],
   "source": [
    "import pulp\n",
    "from datetime import datetime, timedelta"
   ]
  },
  {
   "cell_type": "markdown",
   "metadata": {},
   "source": [
    "### Set up Mickey-Mouse Data"
   ]
  },
  {
   "cell_type": "code",
   "execution_count": 75,
   "metadata": {},
   "outputs": [
    {
     "data": {
      "text/plain": [
       "{'P1': 100, 'P2': 180}"
      ]
     },
     "execution_count": 75,
     "metadata": {},
     "output_type": "execute_result"
    }
   ],
   "source": [
    "from math import inf\n",
    "\n",
    "# Example Input Data\n",
    "packages = [\"P1\", \"P2\"]\n",
    "games = [\"G1\", \"G2\", \"G3\", \"G4\", \"G5\", 'G6', 'G7']\n",
    "game_dates = {\n",
    "    \"G1\": datetime(2023, 1, 15),\n",
    "    \"G2\": datetime(2023, 2, 20),\n",
    "    \"G3\": datetime(2023, 3, 25),\n",
    "    \"G4\": datetime(2023, 4, 10),\n",
    "    \"G5\": datetime(2023, 4, 20),\n",
    "    \"G6\": datetime(2024, 1, 10),\n",
    "    \"G7\": datetime(2024, 3, 15),\n",
    "}\n",
    "C_month = {'P1': 30, 'P2': 20}\n",
    "C_year = {'P2': 180}\n",
    "P_g = {'G1': ['P1'], 'G2': ['P1'], 'G3': ['P1', 'P2'], 'G4': ['P1', 'P2'], 'G5': ['P1', 'P2'],\n",
    "       'G6': ['P1'], 'G7': ['P1', 'P2']}\n",
    "\n",
    "# Filter out unavailable subscriptions\n",
    "filtered_C_month = {p: C_month[p] for p in C_month if p in packages}\n",
    "filtered_C_year = {p: C_year[p] for p in C_year if p in packages}\n",
    "\n",
    "# Generate possible start dates for rolling subscriptions\n",
    "start_dates = sorted(set(game_dates.values()))\n",
    "\n",
    "# Compute coverage windows for rolling monthly and yearly subscriptions\n",
    "coverage_month = {d: [g for g, gd in game_dates.items() if d <= gd <= d + timedelta(days=30)] for d in start_dates}\n",
    "coverage_year = {d: [g for g, gd in game_dates.items() if d <= gd <= d + timedelta(days=365)] for d in start_dates}\n",
    "\n",
    "filtered_C_year"
   ]
  },
  {
   "cell_type": "markdown",
   "metadata": {},
   "source": [
    "### Define Model"
   ]
  },
  {
   "cell_type": "code",
   "execution_count": 76,
   "metadata": {},
   "outputs": [],
   "source": [
    "# Model\n",
    "model = pulp.LpProblem(\"Streaming_Package_Optimization\", pulp.LpMinimize)\n",
    "\n",
    "# Decision variables\n",
    "z_month = {(p, d): pulp.LpVariable(f\"z_month_{p}_{d.strftime('%Y-%m-%d')}\", cat='Binary')\n",
    "           for p in filtered_C_month for d in start_dates}\n",
    "z_year = {(p, d): pulp.LpVariable(f\"z_year_{p}_{d.strftime('%Y-%m-%d')}\", cat='Binary')\n",
    "          for p in filtered_C_year for d in start_dates}\n",
    "\n",
    "# Objective function: Minimize total cost\n",
    "model += pulp.lpSum(filtered_C_month[p] * z_month[p, d] for p in filtered_C_month for d in start_dates) + \\\n",
    "         pulp.lpSum(filtered_C_year[p] * z_year[p, d] for p in filtered_C_year for d in start_dates)\n",
    "\n",
    "# Constraints\n",
    "# 1. Game coverage\n",
    "for g in games:\n",
    "    model += pulp.lpSum(z_month[p, d] for p in P_g[g] if p in filtered_C_month for d in start_dates if g in coverage_month[d]) + \\\n",
    "             pulp.lpSum(z_year[p, d] for p in P_g[g] if p in filtered_C_year for d in start_dates if g in coverage_year[d]) >= 1\n"
   ]
  },
  {
   "cell_type": "code",
   "execution_count": 77,
   "metadata": {},
   "outputs": [
    {
     "name": "stdout",
     "output_type": "stream",
     "text": [
      "Status: Optimal\n",
      "Total Cost: 120.0\n",
      "Active Monthly Subscriptions:\n",
      "  Package: P2, Start Date: 2024-03-15\n",
      "Active Yearly Subscriptions:\n",
      "  Package: P1, Start Date: 2023-01-15\n"
     ]
    }
   ],
   "source": [
    "# Solve the model\n",
    "status = model.solve(pulp.PULP_CBC_CMD())\n",
    "\n",
    "# Process results\n",
    "result = {\n",
    "    \"status\": pulp.LpStatus[status],\n",
    "    \"total_cost\": pulp.value(model.objective),\n",
    "    \"active_monthly_subscriptions\": [],\n",
    "    \"active_yearly_subscriptions\": []\n",
    "}\n",
    "\n",
    "for p in filtered_C_month:\n",
    "    for d in start_dates:\n",
    "        if z_month[p, d].varValue > 0:\n",
    "            result[\"active_monthly_subscriptions\"].append({\"package\": p, \"start_date\": d})\n",
    "for p in filtered_C_year:\n",
    "    for d in start_dates:\n",
    "        if z_year[p, d].varValue > 0:\n",
    "            result[\"active_yearly_subscriptions\"].append({\"package\": p, \"start_date\": d})\n",
    "\n",
    "# Print results\n",
    "print(\"Status:\", result[\"status\"])\n",
    "print(\"Total Cost:\", result[\"total_cost\"])\n",
    "print(\"Active Monthly Subscriptions:\")\n",
    "for sub in result[\"active_monthly_subscriptions\"]:\n",
    "    print(f\"  Package: {sub['package']}, Start Date: {sub['start_date'].strftime('%Y-%m-%d')}\")\n",
    "print(\"Active Yearly Subscriptions:\")\n",
    "for sub in result[\"active_yearly_subscriptions\"]:\n",
    "    print(f\"  Package: {sub['package']}, Start Date: {sub['start_date'].strftime('%Y-%m-%d')}\")"
   ]
  }
 ],
 "metadata": {
  "kernelspec": {
   "display_name": "Python 3",
   "language": "python",
   "name": "python3"
  },
  "language_info": {
   "codemirror_mode": {
    "name": "ipython",
    "version": 3
   },
   "file_extension": ".py",
   "mimetype": "text/x-python",
   "name": "python",
   "nbconvert_exporter": "python",
   "pygments_lexer": "ipython3",
   "version": "3.12.6"
  }
 },
 "nbformat": 4,
 "nbformat_minor": 2
}
