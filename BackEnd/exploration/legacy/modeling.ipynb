{
 "cells": [
  {
   "cell_type": "markdown",
   "metadata": {
    "vscode": {
     "languageId": "plaintext"
    }
   },
   "source": [
    "### Very first time writing down the problem\n",
    "\n",
    "$p_{y,id} \\in P ... \\text{package price}, \\ y... \\text{yearly} \\in \\{0,1\\} $\n",
    "\n",
    "$o_{g_{id}, p_{id}, l, h} \\in O ... \\text{offer}$"
   ]
  },
  {
   "cell_type": "markdown",
   "metadata": {},
   "source": [
    "**Input:** Set of Games $G = \\{(\\hat{g_{id}},\\hat{time},\\hat{l},\\hat{h})...\\} $\n",
    "\n",
    "**Output:** Set $R$ of packages $R = \\{p_{y, p_{id}}, ...\\}$ s.t. \n",
    "$$\n",
    "\\forall g \\in G: \\  \\exists p_{y, p_{id}} \\in R: \\ \\exists o_{\\tilde{g_{id}}, \\tilde{p_{id}}, \\tilde{l}, \\tilde{h}} : \\ \\ \n",
    "\n",
    "\\tilde{g_{id}}=\\hat{g_{id}} \\land \\tilde{p_{id}}=p_{id} \\land \\tilde{l}=\\hat{l} \\land \\tilde{h}=\\hat{h}\n",
    "\n",
    "$$\n"
   ]
  },
  {
   "cell_type": "code",
   "execution_count": null,
   "metadata": {},
   "outputs": [],
   "source": []
  }
 ],
 "metadata": {
  "kernelspec": {
   "display_name": "Python 3",
   "language": "python",
   "name": "python3"
  },
  "language_info": {
   "name": "python",
   "version": "3.12.6"
  }
 },
 "nbformat": 4,
 "nbformat_minor": 2
}
