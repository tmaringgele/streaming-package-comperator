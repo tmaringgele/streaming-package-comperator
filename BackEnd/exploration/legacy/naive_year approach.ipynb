{
 "cells": [
  {
   "cell_type": "markdown",
   "metadata": {},
   "source": [
    "### This works for the naive approach, where all yearly subscriptions start at 1.1. and end at 31.12."
   ]
  },
  {
   "cell_type": "code",
   "execution_count": 23,
   "metadata": {},
   "outputs": [],
   "source": [
    "import pulp"
   ]
  },
  {
   "cell_type": "markdown",
   "metadata": {},
   "source": [
    "### Set up Mickey-Mouse Data"
   ]
  },
  {
   "cell_type": "code",
   "execution_count": 31,
   "metadata": {},
   "outputs": [
    {
     "data": {
      "text/plain": [
       "{'Jan23': ['P1'],\n",
       " 'Feb23': ['P1'],\n",
       " 'Mar23': ['P1', 'P2'],\n",
       " 'Apr23': ['P1', 'P2'],\n",
       " 'Jan24': ['P1'],\n",
       " 'Mar24': ['P1', 'P2']}"
      ]
     },
     "execution_count": 31,
     "metadata": {},
     "output_type": "execute_result"
    }
   ],
   "source": [
    "# Data setup\n",
    "# Sets\n",
    "packages = [\"P1\", \"P2\"]  # Example package IDs\n",
    "months = [\"Jan23\", \"Feb23\", \"Mar23\", \"Apr23\",\n",
    "          'Jan24', 'Mar24']  # Months in which games occur -> precomputed\n",
    "years = [\"2023\", \"2024\"]  # Years in which games occur -> precomputed\n",
    "\n",
    "games = [\"G1\", \"G2\", \"G3\", \"G4\", \"G5\", 'G6', 'G7']  # Games of interest (Main Input)\n",
    "\n",
    "\n",
    "# Cost Parameters\n",
    "C_month = {'P1': 30, 'P2': 20}  # Monthly prices \n",
    "C_year = {'P1': 300, 'P2': 180}  # Yearly prices\n",
    "\n",
    "\n",
    "# Example game coverage\n",
    "P_g = {'G1': ['P1'], 'G2': ['P1'], 'G3': ['P1', 'P2'], 'G4': ['P1', 'P2'],'G5': ['P1', 'P2'],\n",
    "       'G6': ['P1'], 'G7': ['P1', 'P2']} # Packages that cover each game -> Needs to be pre-computed!!\n",
    "\n",
    "m_g = {\"G1\": \"Jan23\", \"G2\": \"Feb23\", \"G3\": \"Mar23\", \"G4\": \"Apr23\", \"G5\": \"Apr23\", 'G6': 'Jan24', 'G7': 'Mar24'} # month of the games\n",
    "y_g = {\"G1\": \"2023\", \"G2\": \"2023\", \"G3\": \"2023\", \"G4\": \"2023\", \"G5\": \"2023\", 'G6': '2024', 'G7': '2024'}  # Year of each game\n",
    "\n",
    "# Packages that can cover games in a month/year\n",
    "P_m = {m: [p for p in packages if any(p in P_g[g] and m_g[g] == m for g in games)] for m in months}\n",
    "P_y = {y: [p for p in packages if any(p in P_g[g] and y_g[g] == y for g in games)] for y in years}\n",
    "\n",
    "P_m"
   ]
  },
  {
   "cell_type": "markdown",
   "metadata": {},
   "source": [
    "### Define Model"
   ]
  },
  {
   "cell_type": "code",
   "execution_count": 32,
   "metadata": {},
   "outputs": [],
   "source": [
    "# Model\n",
    "model = pulp.LpProblem(\"Streaming_Package_Optimization\", pulp.LpMinimize)\n",
    "\n",
    "# Decision variables\n",
    "x_month = {p: pulp.LpVariable(f\"x_month_{p}\", lowBound=0, cat='Integer') for p in packages}\n",
    "x_year = {p: pulp.LpVariable(f\"x_year_{p}\", lowBound=0, cat='Integer') for p in packages}\n",
    "z_month = {(p, m): pulp.LpVariable(f\"z_month_{p}_{m}\", cat='Binary') for p in packages for m in months}\n",
    "z_year = {(p, y): pulp.LpVariable(f\"z_year_{p}_{y}\", cat='Binary') for p in packages for y in years}\n",
    "\n",
    "# Objective function: Minimize total cost\n",
    "model += pulp.lpSum(C_month[p] * x_month[p] + C_year[p] * x_year[p] for p in packages)\n",
    "\n",
    "# Constraints\n",
    "# 1. Game coverage\n",
    "for g in games:\n",
    "    model += pulp.lpSum(z_month[p, m_g[g]] for p in P_g[g]) + pulp.lpSum(z_year[p, y_g[g]] for p in P_g[g]) >= 1\n",
    "\n",
    "# 2. Monthly subscription activation\n",
    "for p in packages:\n",
    "    for m in months:\n",
    "        model += z_month[p, m] <= x_month[p]\n",
    "\n",
    "# 3. Yearly subscription activation\n",
    "for p in packages:\n",
    "    for y in years:\n",
    "        model += z_year[p, y] <= x_year[p]\n",
    "\n",
    "# 4. Monthly activations limited to subscriptions\n",
    "for p in packages:\n",
    "    model += pulp.lpSum(z_month[p, m] for m in months) <= x_month[p]\n",
    "\n",
    "# 5. Yearly activations limited to subscriptions\n",
    "for p in packages:\n",
    "    model += pulp.lpSum(z_year[p, y] for y in years) <= x_year[p]\n"
   ]
  },
  {
   "cell_type": "code",
   "execution_count": 33,
   "metadata": {},
   "outputs": [
    {
     "name": "stdout",
     "output_type": "stream",
     "text": [
      "Status: Optimal\n",
      "Total Cost: 150.0\n",
      "Package P1: Monthly subscriptions = 3.0, Yearly subscriptions = 0.0\n",
      "Package P2: Monthly subscriptions = 3.0, Yearly subscriptions = 0.0\n",
      "Package P1 active in month Jan23\n",
      "Package P1 active in month Feb23\n",
      "Package P1 active in month Jan24\n",
      "Package P2 active in month Mar23\n",
      "Package P2 active in month Apr23\n",
      "Package P2 active in month Mar24\n"
     ]
    }
   ],
   "source": [
    "# Solve the model\n",
    "status = model.solve(pulp.PULP_CBC_CMD())\n",
    "\n",
    "# Output the results\n",
    "print(\"Status:\", pulp.LpStatus[status])\n",
    "print(\"Total Cost:\", pulp.value(model.objective))\n",
    "\n",
    "for p in packages:\n",
    "    print(f\"Package {p}: Monthly subscriptions = {x_month[p].varValue}, Yearly subscriptions = {x_year[p].varValue}\")\n",
    "\n",
    "for p in packages:\n",
    "    for m in months:\n",
    "        if z_month[p, m].varValue > 0:\n",
    "            print(f\"Package {p} active in month {m}\")\n",
    "\n",
    "for p in packages:\n",
    "    for y in years:\n",
    "        if z_year[p, y].varValue > 0:\n",
    "            print(f\"Package {p} active in year {y}\")"
   ]
  }
 ],
 "metadata": {
  "kernelspec": {
   "display_name": "Python 3",
   "language": "python",
   "name": "python3"
  },
  "language_info": {
   "codemirror_mode": {
    "name": "ipython",
    "version": 3
   },
   "file_extension": ".py",
   "mimetype": "text/x-python",
   "name": "python",
   "nbconvert_exporter": "python",
   "pygments_lexer": "ipython3",
   "version": "3.12.6"
  }
 },
 "nbformat": 4,
 "nbformat_minor": 2
}
