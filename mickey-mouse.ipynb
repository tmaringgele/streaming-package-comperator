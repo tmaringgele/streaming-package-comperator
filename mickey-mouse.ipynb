{
 "cells": [
  {
   "cell_type": "markdown",
   "metadata": {},
   "source": [
    "Mickey-Mouse Example"
   ]
  },
  {
   "cell_type": "code",
   "execution_count": 2,
   "metadata": {},
   "outputs": [],
   "source": [
    "import pulp"
   ]
  },
  {
   "cell_type": "markdown",
   "metadata": {},
   "source": [
    "### Set up Mickey-Mouse Data"
   ]
  },
  {
   "cell_type": "code",
   "execution_count": 7,
   "metadata": {},
   "outputs": [
    {
     "data": {
      "text/plain": [
       "{'Jan': ['P1', 'P2', 'P3'],\n",
       " 'Feb': ['P1', 'P2', 'P3'],\n",
       " 'Mar': ['P1', 'P2', 'P3']}"
      ]
     },
     "execution_count": 7,
     "metadata": {},
     "output_type": "execute_result"
    }
   ],
   "source": [
    "# Data setup\n",
    "# Sets\n",
    "packages = ['P1', 'P2', 'P3']  # Example package IDs\n",
    "months = ['Jan', 'Feb', 'Mar']  # Example months\n",
    "years = ['2024']  # Example years\n",
    "games = ['G1', 'G2', 'G3']  # Example games\n",
    "\n",
    "\n",
    "# Parameters\n",
    "C_month = {'P1': 10, 'P2': 20, 'P3': 15}  # Monthly prices \n",
    "C_year = {'P1': 100, 'P2': 180, 'P3': 120}  # Yearly prices \n",
    "\n",
    "\n",
    "# Example game coverage\n",
    "P_g = {'G1': ['P1', 'P2'], 'G2': ['P1', 'P3'], 'G3': ['P2', 'P3']}  # Packages that cover each game\n",
    "m_g = {'G1': 'Jan', 'G2': 'Feb', 'G3': 'Mar'}  # Month of each game\n",
    "y_g = {'G1': '2024', 'G2': '2024', 'G3': '2024'}  # Year of each game\n",
    "\n",
    "# Packages that can cover games in a month/year\n",
    "P_m = {m: [p for p in packages if any(g in P_g and m_g[g] == m for g in games)] for m in months}\n",
    "P_y = {y: [p for p in packages if any(g in P_g and y_g[g] == y for g in games)] for y in years}\n",
    "\n",
    "\n"
   ]
  },
  {
   "cell_type": "markdown",
   "metadata": {},
   "source": [
    "### Define Model"
   ]
  },
  {
   "cell_type": "code",
   "execution_count": 10,
   "metadata": {},
   "outputs": [],
   "source": [
    "# Model\n",
    "model = pulp.LpProblem(\"Streaming_Package_Optimization\", pulp.LpMinimize)\n",
    "\n",
    "# Decision variables\n",
    "x_month = {p: pulp.LpVariable(f\"x_month_{p}\", lowBound=0, cat='Integer') for p in packages}\n",
    "x_year = {p: pulp.LpVariable(f\"x_year_{p}\", lowBound=0, cat='Integer') for p in packages}\n",
    "z_month = { (p, m): pulp.LpVariable(f\"z_month_{p}_{m}\", cat='Binary') for p in packages for m in months }\n",
    "z_year = { (p, y): pulp.LpVariable(f\"z_year_{p}_{y}\", cat='Binary') for p in packages for y in years }\n",
    "\n",
    "# Objective function: Minimize total cost\n",
    "model += pulp.lpSum(C_month[p] * x_month[p] + C_year[p] * x_year[p] for p in packages)\n",
    "\n",
    "# Constraints\n",
    "# 1. Game coverage\n",
    "for g in games:\n",
    "    model += pulp.lpSum(z_month[p, m_g[g]] for p in P_g[g]) + pulp.lpSum(z_year[p, y_g[g]] for p in P_g[g]) >= 1\n",
    "\n",
    "# 2. Monthly subscription activation\n",
    "for p in packages:\n",
    "    for m in months:\n",
    "        model += z_month[p, m] <= x_month[p]\n",
    "\n",
    "# 3. Yearly subscription activation\n",
    "for p in packages:\n",
    "    for y in years:\n",
    "        model += z_year[p, y] <= x_year[p]\n",
    "\n",
    "# 4. Covering games by month\n",
    "for m in months:\n",
    "    model += pulp.lpSum(z_month[p, m] for p in P_m[m]) >= 1\n",
    "\n",
    "# 5. Covering games by year\n",
    "for y in years:\n",
    "    model += pulp.lpSum(z_year[p, y] for p in P_y[y]) >= 1"
   ]
  },
  {
   "cell_type": "code",
   "execution_count": 11,
   "metadata": {},
   "outputs": [
    {
     "name": "stdout",
     "output_type": "stream",
     "text": [
      "Status: Optimal\n",
      "Total Cost: 115.0\n",
      "Package P1: Monthly subscriptions = 0.0, Yearly subscriptions = 1.0\n",
      "Package P2: Monthly subscriptions = 0.0, Yearly subscriptions = 0.0\n",
      "Package P3: Monthly subscriptions = 1.0, Yearly subscriptions = 0.0\n",
      "Package P3 active in month Jan: 1.0\n",
      "Package P3 active in month Feb: 1.0\n",
      "Package P3 active in month Mar: 1.0\n",
      "Package P1 active in year 2024: 1.0\n"
     ]
    }
   ],
   "source": [
    "# Solve the model\n",
    "status = model.solve(pulp.PULP_CBC_CMD())\n",
    "\n",
    "# Output the results\n",
    "print(\"Status:\", pulp.LpStatus[status])\n",
    "print(\"Total Cost:\", pulp.value(model.objective))\n",
    "\n",
    "for p in packages:\n",
    "    print(f\"Package {p}: Monthly subscriptions = {x_month[p].varValue}, Yearly subscriptions = {x_year[p].varValue}\")\n",
    "\n",
    "for p in packages:\n",
    "    for m in months:\n",
    "        if z_month[p, m].varValue > 0:\n",
    "            print(f\"Package {p} active in month {m}: {z_month[p, m].varValue}\")\n",
    "\n",
    "for p in packages:\n",
    "    for y in years:\n",
    "        if z_year[p, y].varValue > 0:\n",
    "            print(f\"Package {p} active in year {y}: {z_year[p, y].varValue}\")"
   ]
  }
 ],
 "metadata": {
  "kernelspec": {
   "display_name": "Python 3",
   "language": "python",
   "name": "python3"
  },
  "language_info": {
   "codemirror_mode": {
    "name": "ipython",
    "version": 3
   },
   "file_extension": ".py",
   "mimetype": "text/x-python",
   "name": "python",
   "nbconvert_exporter": "python",
   "pygments_lexer": "ipython3",
   "version": "3.12.6"
  }
 },
 "nbformat": 4,
 "nbformat_minor": 2
}
