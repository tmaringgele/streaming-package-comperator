{
 "cells": [
  {
   "cell_type": "code",
   "execution_count": 2,
   "metadata": {},
   "outputs": [],
   "source": [
    "import pandas as pd"
   ]
  },
  {
   "cell_type": "code",
   "execution_count": 6,
   "metadata": {},
   "outputs": [
    {
     "name": "stdout",
     "output_type": "stream",
     "text": [
      "<class 'pandas.core.frame.DataFrame'>\n",
      "RangeIndex: 8871 entries, 0 to 8870\n",
      "Data columns (total 5 columns):\n",
      " #   Column           Non-Null Count  Dtype \n",
      "---  ------           --------------  ----- \n",
      " 0   id               8871 non-null   int64 \n",
      " 1   team_home        8871 non-null   object\n",
      " 2   team_away        8871 non-null   object\n",
      " 3   starts_at        8871 non-null   object\n",
      " 4   tournament_name  8871 non-null   object\n",
      "dtypes: int64(1), object(4)\n",
      "memory usage: 346.7+ KB\n"
     ]
    }
   ],
   "source": [
    "game_raw = pd.read_csv('data/bc_game.csv') # some games and when they are played\n",
    "streaming_packages_raw = pd.read_csv('data/bc_streaming_package.csv') # streaming packages with price\n",
    "streaming_offers_raw = pd.read_csv('data/bc_streaming_offer.csv')  # which service offers which game, live? on-demand-highlights?\n",
    "\n",
    "game_raw.info()"
   ]
  },
  {
   "cell_type": "code",
   "execution_count": 7,
   "metadata": {},
   "outputs": [
    {
     "name": "stdout",
     "output_type": "stream",
     "text": [
      "<class 'pandas.core.frame.DataFrame'>\n",
      "RangeIndex: 37 entries, 0 to 36\n",
      "Data columns (total 4 columns):\n",
      " #   Column                                      Non-Null Count  Dtype  \n",
      "---  ------                                      --------------  -----  \n",
      " 0   id                                          37 non-null     int64  \n",
      " 1   name                                        37 non-null     object \n",
      " 2   monthly_price_cents                         30 non-null     float64\n",
      " 3   monthly_price_yearly_subscription_in_cents  37 non-null     int64  \n",
      "dtypes: float64(1), int64(2), object(1)\n",
      "memory usage: 1.3+ KB\n"
     ]
    }
   ],
   "source": [
    "streaming_packages_raw.info()"
   ]
  },
  {
   "cell_type": "code",
   "execution_count": 8,
   "metadata": {},
   "outputs": [
    {
     "name": "stdout",
     "output_type": "stream",
     "text": [
      "<class 'pandas.core.frame.DataFrame'>\n",
      "RangeIndex: 32439 entries, 0 to 32438\n",
      "Data columns (total 4 columns):\n",
      " #   Column                Non-Null Count  Dtype\n",
      "---  ------                --------------  -----\n",
      " 0   game_id               32439 non-null  int64\n",
      " 1   streaming_package_id  32439 non-null  int64\n",
      " 2   live                  32439 non-null  int64\n",
      " 3   highlights            32439 non-null  int64\n",
      "dtypes: int64(4)\n",
      "memory usage: 1013.8 KB\n"
     ]
    }
   ],
   "source": [
    "streaming_offers_raw.info()"
   ]
  }
 ],
 "metadata": {
  "kernelspec": {
   "display_name": "Python 3",
   "language": "python",
   "name": "python3"
  },
  "language_info": {
   "codemirror_mode": {
    "name": "ipython",
    "version": 3
   },
   "file_extension": ".py",
   "mimetype": "text/x-python",
   "name": "python",
   "nbconvert_exporter": "python",
   "pygments_lexer": "ipython3",
   "version": "3.12.6"
  }
 },
 "nbformat": 4,
 "nbformat_minor": 2
}
