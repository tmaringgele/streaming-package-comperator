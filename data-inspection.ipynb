{
 "cells": [
  {
   "cell_type": "code",
   "execution_count": 2,
   "metadata": {},
   "outputs": [],
   "source": [
    "import pandas as pd"
   ]
  },
  {
   "cell_type": "code",
   "execution_count": 9,
   "metadata": {},
   "outputs": [
    {
     "data": {
      "text/html": [
       "<div>\n",
       "<style scoped>\n",
       "    .dataframe tbody tr th:only-of-type {\n",
       "        vertical-align: middle;\n",
       "    }\n",
       "\n",
       "    .dataframe tbody tr th {\n",
       "        vertical-align: top;\n",
       "    }\n",
       "\n",
       "    .dataframe thead th {\n",
       "        text-align: right;\n",
       "    }\n",
       "</style>\n",
       "<table border=\"1\" class=\"dataframe\">\n",
       "  <thead>\n",
       "    <tr style=\"text-align: right;\">\n",
       "      <th></th>\n",
       "      <th>id</th>\n",
       "      <th>team_home</th>\n",
       "      <th>team_away</th>\n",
       "      <th>starts_at</th>\n",
       "      <th>tournament_name</th>\n",
       "    </tr>\n",
       "  </thead>\n",
       "  <tbody>\n",
       "    <tr>\n",
       "      <th>0</th>\n",
       "      <td>1</td>\n",
       "      <td>Deutschland</td>\n",
       "      <td>Schottland</td>\n",
       "      <td>2024-06-14 19:00:00</td>\n",
       "      <td>Europameisterschaft 2024</td>\n",
       "    </tr>\n",
       "    <tr>\n",
       "      <th>1</th>\n",
       "      <td>2</td>\n",
       "      <td>Ungarn</td>\n",
       "      <td>Schweiz</td>\n",
       "      <td>2024-06-15 13:00:00</td>\n",
       "      <td>Europameisterschaft 2024</td>\n",
       "    </tr>\n",
       "    <tr>\n",
       "      <th>2</th>\n",
       "      <td>3</td>\n",
       "      <td>Spanien</td>\n",
       "      <td>Kroatien</td>\n",
       "      <td>2024-06-15 16:00:00</td>\n",
       "      <td>Europameisterschaft 2024</td>\n",
       "    </tr>\n",
       "    <tr>\n",
       "      <th>3</th>\n",
       "      <td>4</td>\n",
       "      <td>Italien</td>\n",
       "      <td>Albanien</td>\n",
       "      <td>2024-06-15 19:00:00</td>\n",
       "      <td>Europameisterschaft 2024</td>\n",
       "    </tr>\n",
       "    <tr>\n",
       "      <th>4</th>\n",
       "      <td>5</td>\n",
       "      <td>Polen</td>\n",
       "      <td>Niederlande</td>\n",
       "      <td>2024-06-16 13:00:00</td>\n",
       "      <td>Europameisterschaft 2024</td>\n",
       "    </tr>\n",
       "    <tr>\n",
       "      <th>...</th>\n",
       "      <td>...</td>\n",
       "      <td>...</td>\n",
       "      <td>...</td>\n",
       "      <td>...</td>\n",
       "      <td>...</td>\n",
       "    </tr>\n",
       "    <tr>\n",
       "      <th>8866</th>\n",
       "      <td>8872</td>\n",
       "      <td>San Tirso SD</td>\n",
       "      <td>Selaya FC</td>\n",
       "      <td>2024-10-09 19:00:00</td>\n",
       "      <td>Copa del Rey 24/25</td>\n",
       "    </tr>\n",
       "    <tr>\n",
       "      <th>8867</th>\n",
       "      <td>8873</td>\n",
       "      <td>UD San Pedro</td>\n",
       "      <td>CD Ceuta 6 de Junio</td>\n",
       "      <td>2024-10-09 19:00:00</td>\n",
       "      <td>Copa del Rey 24/25</td>\n",
       "    </tr>\n",
       "    <tr>\n",
       "      <th>8868</th>\n",
       "      <td>8874</td>\n",
       "      <td>CD Sonseca</td>\n",
       "      <td>Cp Parla Escuela</td>\n",
       "      <td>2024-10-09 19:00:00</td>\n",
       "      <td>Copa del Rey 24/25</td>\n",
       "    </tr>\n",
       "    <tr>\n",
       "      <th>8869</th>\n",
       "      <td>8875</td>\n",
       "      <td>CD Gevora</td>\n",
       "      <td>UD Playas de Sotavento</td>\n",
       "      <td>2024-10-09 19:00:00</td>\n",
       "      <td>Copa del Rey 24/25</td>\n",
       "    </tr>\n",
       "    <tr>\n",
       "      <th>8870</th>\n",
       "      <td>8876</td>\n",
       "      <td>Newcastle United</td>\n",
       "      <td>AFC Wimbledon</td>\n",
       "      <td>2024-10-01 18:45:00</td>\n",
       "      <td>EFL Cup 24/25</td>\n",
       "    </tr>\n",
       "  </tbody>\n",
       "</table>\n",
       "<p>8871 rows × 5 columns</p>\n",
       "</div>"
      ],
      "text/plain": [
       "        id         team_home               team_away            starts_at  \\\n",
       "0        1       Deutschland              Schottland  2024-06-14 19:00:00   \n",
       "1        2            Ungarn                 Schweiz  2024-06-15 13:00:00   \n",
       "2        3           Spanien                Kroatien  2024-06-15 16:00:00   \n",
       "3        4           Italien                Albanien  2024-06-15 19:00:00   \n",
       "4        5             Polen             Niederlande  2024-06-16 13:00:00   \n",
       "...    ...               ...                     ...                  ...   \n",
       "8866  8872      San Tirso SD               Selaya FC  2024-10-09 19:00:00   \n",
       "8867  8873      UD San Pedro     CD Ceuta 6 de Junio  2024-10-09 19:00:00   \n",
       "8868  8874        CD Sonseca        Cp Parla Escuela  2024-10-09 19:00:00   \n",
       "8869  8875         CD Gevora  UD Playas de Sotavento  2024-10-09 19:00:00   \n",
       "8870  8876  Newcastle United           AFC Wimbledon  2024-10-01 18:45:00   \n",
       "\n",
       "               tournament_name  \n",
       "0     Europameisterschaft 2024  \n",
       "1     Europameisterschaft 2024  \n",
       "2     Europameisterschaft 2024  \n",
       "3     Europameisterschaft 2024  \n",
       "4     Europameisterschaft 2024  \n",
       "...                        ...  \n",
       "8866        Copa del Rey 24/25  \n",
       "8867        Copa del Rey 24/25  \n",
       "8868        Copa del Rey 24/25  \n",
       "8869        Copa del Rey 24/25  \n",
       "8870             EFL Cup 24/25  \n",
       "\n",
       "[8871 rows x 5 columns]"
      ]
     },
     "execution_count": 9,
     "metadata": {},
     "output_type": "execute_result"
    }
   ],
   "source": [
    "game_raw = pd.read_csv('data/bc_game.csv') # some games and when they are played\n",
    "streaming_packages_raw = pd.read_csv('data/bc_streaming_package.csv') # streaming packages with price\n",
    "streaming_offers_raw = pd.read_csv('data/bc_streaming_offer.csv')  # which service offers which game, live? on-demand-highlights?\n",
    "\n",
    "game_raw"
   ]
  },
  {
   "cell_type": "code",
   "execution_count": 7,
   "metadata": {},
   "outputs": [
    {
     "name": "stdout",
     "output_type": "stream",
     "text": [
      "<class 'pandas.core.frame.DataFrame'>\n",
      "RangeIndex: 37 entries, 0 to 36\n",
      "Data columns (total 4 columns):\n",
      " #   Column                                      Non-Null Count  Dtype  \n",
      "---  ------                                      --------------  -----  \n",
      " 0   id                                          37 non-null     int64  \n",
      " 1   name                                        37 non-null     object \n",
      " 2   monthly_price_cents                         30 non-null     float64\n",
      " 3   monthly_price_yearly_subscription_in_cents  37 non-null     int64  \n",
      "dtypes: float64(1), int64(2), object(1)\n",
      "memory usage: 1.3+ KB\n"
     ]
    }
   ],
   "source": [
    "streaming_packages_raw.info()"
   ]
  },
  {
   "cell_type": "code",
   "execution_count": 8,
   "metadata": {},
   "outputs": [
    {
     "name": "stdout",
     "output_type": "stream",
     "text": [
      "<class 'pandas.core.frame.DataFrame'>\n",
      "RangeIndex: 32439 entries, 0 to 32438\n",
      "Data columns (total 4 columns):\n",
      " #   Column                Non-Null Count  Dtype\n",
      "---  ------                --------------  -----\n",
      " 0   game_id               32439 non-null  int64\n",
      " 1   streaming_package_id  32439 non-null  int64\n",
      " 2   live                  32439 non-null  int64\n",
      " 3   highlights            32439 non-null  int64\n",
      "dtypes: int64(4)\n",
      "memory usage: 1013.8 KB\n"
     ]
    }
   ],
   "source": [
    "streaming_offers_raw.info()"
   ]
  }
 ],
 "metadata": {
  "kernelspec": {
   "display_name": "Python 3",
   "language": "python",
   "name": "python3"
  },
  "language_info": {
   "codemirror_mode": {
    "name": "ipython",
    "version": 3
   },
   "file_extension": ".py",
   "mimetype": "text/x-python",
   "name": "python",
   "nbconvert_exporter": "python",
   "pygments_lexer": "ipython3",
   "version": "3.12.6"
  }
 },
 "nbformat": 4,
 "nbformat_minor": 2
}
